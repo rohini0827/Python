{
 "cells": [
  {
   "cell_type": "code",
   "execution_count": 1,
   "id": "f5d055a8",
   "metadata": {},
   "outputs": [
    {
     "name": "stdout",
     "output_type": "stream",
     "text": [
      "string_var: Hello, World!, Type: <class 'str'>\n",
      "integer_var: 42, Type: <class 'int'>\n",
      "float_var: 3.14, Type: <class 'float'>\n",
      "boolean_var: True, Type: <class 'bool'>\n"
     ]
    }
   ],
   "source": [
    "#Assi1\n",
    "#create variables of different data types string, integer, float, boolean and print their values and types\n",
    "\n",
    "string_var = \"Hello, World!\"\n",
    "integer_var = 42               \n",
    "float_var = 3.14               \n",
    "boolean_var = True \n",
    "print(f\"string_var: {string_var}, Type: {type(string_var)}\")\n",
    "print(f\"integer_var: {integer_var}, Type: {type(integer_var)}\")\n",
    "print(f\"float_var: {float_var}, Type: {type(float_var)}\")\n",
    "print(f\"boolean_var: {boolean_var}, Type: {type(boolean_var)}\")"
   ]
  },
  {
   "cell_type": "code",
   "execution_count": 2,
   "id": "7a7a995b",
   "metadata": {},
   "outputs": [
    {
     "name": "stdout",
     "output_type": "stream",
     "text": [
      "Enter your name: rohini\n",
      "Enter your age: 23\n",
      "Hello, I'm rohini! I'm 23 years old.\n"
     ]
    }
   ],
   "source": [
    "#write a python program that asks the user for their name and age, \n",
    "#then prints a message saying \"Hello, [Name]! You are [Age] years old.\"\n",
    "\n",
    "\n",
    "name = input('Enter your name: ')\n",
    "age = input('Enter your age: ')\n",
    "print(f\"Hello, I'm {name}! I'm {age} years old.\")"
   ]
  },
  {
   "cell_type": "code",
   "execution_count": 3,
   "id": "46d798dd",
   "metadata": {},
   "outputs": [
    {
     "name": "stdout",
     "output_type": "stream",
     "text": [
      "Enter the first number: 3\n",
      "Enter the second number: 2\n",
      "Enter an operator (+, -, *, /, %, **, //): +\n",
      "The result of 3.0 + 2.0 is: 5.0\n"
     ]
    }
   ],
   "source": [
    "#create a simple calculator that allows the user to input two numbers \n",
    "#and an operator (+, -, *, /, %, **, //) \n",
    "#based on the operator provided the program should perform the corresponding arithmetic operation and display the result\n",
    "\n",
    "\n",
    "def calculator():\n",
    "    num1 = float(input(\"Enter the first number: \"))\n",
    "    num2 = float(input(\"Enter the second number: \"))\n",
    "    operator = input(\"Enter an operator (+, -, *, /, %, **, //): \")\n",
    "\n",
    "    if operator == '+':\n",
    "        result = num1 + num2\n",
    "    elif operator == '-':\n",
    "        result = num1 - num2\n",
    "    elif operator == '*':\n",
    "        result = num1 * num2\n",
    "    elif operator == '/':\n",
    "        if num2 != 0:  \n",
    "            result = num1 / num2\n",
    "        else:\n",
    "            return \"Error: Division by zero!\"\n",
    "    elif operator == '%':\n",
    "        if num2 != 0:  \n",
    "            result = num1 % num2\n",
    "        else:\n",
    "            return \"Error: Division by zero!\"\n",
    "    elif operator == '':\n",
    "        result = num1 ** num2\n",
    "    elif operator == '//':\n",
    "        if num2 != 0:  \n",
    "            result = num1 // num2\n",
    "        else:\n",
    "            return \"Error: Division by zero!\"\n",
    "    else:\n",
    "        return \"Invalid operator!\"\n",
    "\n",
    "    return f\"The result of {num1} {operator} {num2} is: {result}\"\n",
    "\n",
    "print(calculator())"
   ]
  },
  {
   "cell_type": "code",
   "execution_count": 4,
   "id": "49021c3d",
   "metadata": {},
   "outputs": [
    {
     "name": "stdout",
     "output_type": "stream",
     "text": [
      "Enter the length of the rectangle: 12\n",
      "Enter the width of the rectangle: 10\n",
      "The area of the rectangle is: 120.0\n",
      "The perimeter of the rectangle is: 44.0\n"
     ]
    }
   ],
   "source": [
    "#write a python program that takes the length and width of a rectangle as input and calculates its area and perimeter\n",
    "#display the results\n",
    "\n",
    "def calculate_area(length, width):\n",
    "    return length * width\n",
    "\n",
    "def calculate_perimeter(length, width):\n",
    "    return 2 * (length + width)\n",
    "\n",
    "length = float(input(\"Enter the length of the rectangle: \"))\n",
    "width = float(input(\"Enter the width of the rectangle: \"))\n",
    "\n",
    "area = calculate_area(length, width)\n",
    "perimeter = calculate_perimeter(length, width)\n",
    "\n",
    "print(f\"The area of the rectangle is: {area}\")\n",
    "print(f\"The perimeter of the rectangle is: {perimeter}\")\n"
   ]
  },
  {
   "cell_type": "code",
   "execution_count": 5,
   "id": "785776e2",
   "metadata": {},
   "outputs": [
    {
     "name": "stdout",
     "output_type": "stream",
     "text": [
      "Enter an integer: 4\n",
      "4 is even.\n"
     ]
    }
   ],
   "source": [
    "#write a python program that takes an integer as input and determines if it is even or odd and Print the result\n",
    "\n",
    "number = int(input(\"Enter an integer: \"))\n",
    "\n",
    "if number % 2 == 0:\n",
    "    print(f\"{number} is even.\")\n",
    "else:\n",
    "    print(f\"{number} is odd.\")"
   ]
  },
  {
   "cell_type": "code",
   "execution_count": 6,
   "id": "168626e1",
   "metadata": {},
   "outputs": [
    {
     "name": "stdout",
     "output_type": "stream",
     "text": [
      "Enter the principal amount: 142\n",
      "Enter the rate of interest (%): 2\n",
      "Enter the time period (in years): 1\n",
      "The calculated simple interest is: 2.84\n"
     ]
    }
   ],
   "source": [
    "#write a python program that takes the principal amount, rate of interest, and time period as inputs and calculates the simple interest. \n",
    "#display the calculated interest\n",
    "\n",
    "def calculate_simple_interest(principal, rate, time):\n",
    "    simple_interest = (principal * rate * time) / 100\n",
    "    return simple_interest\n",
    "\n",
    "principal = float(input(\"Enter the principal amount: \"))\n",
    "rate = float(input(\"Enter the rate of interest (%): \"))\n",
    "time = float(input(\"Enter the time period (in years): \"))\n",
    "\n",
    "interest = calculate_simple_interest(principal, rate, time)\n",
    "\n",
    "print(f\"The calculated simple interest is: {interest:.2f}\")"
   ]
  },
  {
   "cell_type": "code",
   "execution_count": 8,
   "id": "f2791953",
   "metadata": {},
   "outputs": [
    {
     "name": "stdout",
     "output_type": "stream",
     "text": [
      "Enter the first number: 12\n",
      "Enter the second number: 14\n",
      "Enter the third number: 10\n",
      "The average of 12.0, 14.0, and 10.0 is 12.0.\n"
     ]
    }
   ],
   "source": [
    "#write a Python program that takes three numbers as input and calculates their average. Print the result\n",
    "\n",
    "num1 = float(input(\"Enter the first number: \"))\n",
    "num2 = float(input(\"Enter the second number: \"))\n",
    "num3 = float(input(\"Enter the third number: \"))\n",
    "\n",
    "average = (num1 + num2 + num3) / 3\n",
    "\n",
    "print(f\"The average of {num1}, {num2}, and {num3} is {average}.\")"
   ]
  },
  {
   "cell_type": "code",
   "execution_count": 9,
   "id": "86f51859",
   "metadata": {},
   "outputs": [
    {
     "name": "stdout",
     "output_type": "stream",
     "text": [
      "5 == 5 : True\n",
      "5 != 5 : False\n",
      "5 > 5  : False\n",
      "5 < 5  : False\n",
      "5 >= 5 : True\n",
      "5 <= 5 : True\n"
     ]
    }
   ],
   "source": [
    "#write a python program to demonstrate the relational operators\n",
    "\n",
    "a = 5\n",
    "b = 5\n",
    "\n",
    "print(f\"{a} == {b} : {a == b}\")  \n",
    "print(f\"{a} != {b} : {a != b}\")   \n",
    "print(f\"{a} > {b}  : {a > b}\")   \n",
    "print(f\"{a} < {b}  : {a < b}\")   \n",
    "print(f\"{a} >= {b} : {a >= b}\")  \n",
    "print(f\"{a} <= {b} : {a <= b}\") "
   ]
  },
  {
   "cell_type": "code",
   "execution_count": 10,
   "id": "599e7693",
   "metadata": {},
   "outputs": [
    {
     "name": "stdout",
     "output_type": "stream",
     "text": [
      "20 & 20 = 20\n",
      "20 | 20 = 20\n",
      "20 ^ 20 = 0\n",
      "~20 = -21\n",
      "20 << 2 = 80\n",
      "20 >> 2 = 5\n"
     ]
    }
   ],
   "source": [
    "#write a python program to demonstrate the the bitwise operators\n",
    "\n",
    "a = 20\n",
    "b = 20\n",
    "\n",
    "result_and = a & b \n",
    "print(f\"{a} & {b} = {result_and}\")\n",
    "\n",
    "result_or = a | b \n",
    "print(f\"{a} | {b} = {result_or}\")\n",
    "\n",
    "result_xor = a ^ b  \n",
    "print(f\"{a} ^ {b} = {result_xor}\")\n",
    "\n",
    "result_not = ~a  \n",
    "print(f\"~{a} = {result_not}\")\n",
    "\n",
    "result_left_shift = a << 2 \n",
    "print(f\"{a} << 2 = {result_left_shift}\")\n",
    "\n",
    "result_right_shift = a >> 2  \n",
    "print(f\"{a} >> 2 = {result_right_shift}\")"
   ]
  },
  {
   "cell_type": "code",
   "execution_count": 11,
   "id": "fd17c9e7",
   "metadata": {},
   "outputs": [
    {
     "name": "stdout",
     "output_type": "stream",
     "text": [
      "Type of integer_var: <class 'int'>\n",
      "Type of float_var: <class 'float'>\n",
      "Type of string_var: <class 'str'>\n",
      "Type of boolean_var: <class 'bool'>\n",
      "Type of list_var: <class 'list'>\n",
      "Type of tuple_var: <class 'tuple'>\n",
      "Type of dict_var: <class 'dict'>\n"
     ]
    }
   ],
   "source": [
    "#write a python program to print the type of the variables used in the program\n",
    "\n",
    "integer_var = 10\n",
    "float_var = 3.14\n",
    "string_var = \"Hello, World!\"\n",
    "boolean_var = True\n",
    "list_var = [1, 2, 3, 4, 5]\n",
    "tuple_var = (1, 2, 3)\n",
    "dict_var = {\"key\": \"value\"}\n",
    "\n",
    "print(f'Type of integer_var: {type(integer_var)}')\n",
    "print(f'Type of float_var: {type(float_var)}')\n",
    "print(f'Type of string_var: {type(string_var)}')\n",
    "print(f'Type of boolean_var: {type(boolean_var)}')\n",
    "print(f'Type of list_var: {type(list_var)}')\n",
    "print(f'Type of tuple_var: {type(tuple_var)}')\n",
    "print(f'Type of dict_var: {type(dict_var)}')"
   ]
  },
  {
   "cell_type": "code",
   "execution_count": 12,
   "id": "0966a8bf",
   "metadata": {},
   "outputs": [
    {
     "name": "stdout",
     "output_type": "stream",
     "text": [
      "Enter the first number: 12\n",
      "Enter the second number: 14\n",
      "\n",
      "The results of arithmetic operations on 12.0 and 14.0 are:\n",
      "Addition: 12.0 + 14.0 = 26.0\n",
      "Subtraction: 12.0 - 14.0 = -2.0\n",
      "Multiplication: 12.0 * 14.0 = 168.0\n",
      "Division: 12.0 / 14.0 = 0.8571428571428571\n"
     ]
    }
   ],
   "source": [
    "#write a python program to read values from the user and apply the arithmetic operations on those values \n",
    "#[do not use exception handling]\n",
    "\n",
    "num1 = float(input(\"Enter the first number: \"))\n",
    "num2 = float(input(\"Enter the second number: \"))\n",
    "\n",
    "addition = num1 + num2\n",
    "subtraction = num1 - num2\n",
    "multiplication = num1 * num2\n",
    "division = num1 / num2\n",
    "\n",
    "print(f\"\\nThe results of arithmetic operations on {num1} and {num2} are:\")\n",
    "print(f\"Addition: {num1} + {num2} = {addition}\")\n",
    "print(f\"Subtraction: {num1} - {num2} = {subtraction}\")\n",
    "print(f\"Multiplication: {num1} * {num2} = {multiplication}\")\n",
    "print(f\"Division: {num1} / {num2} = {division}\")"
   ]
  },
  {
   "cell_type": "code",
   "execution_count": 13,
   "id": "9cc9626d",
   "metadata": {},
   "outputs": [
    {
     "name": "stdout",
     "output_type": "stream",
     "text": [
      "Enter temperature: 24\n",
      "Enter type:(C or F): c\n",
      "Temperature in celcius :  -4.444444444444445\n"
     ]
    }
   ],
   "source": [
    "#write a python program that converts temperature from celsius to fahrenheit and vice versa\n",
    "#the program should ask the user for the temperature value and the unit (celsius or fahrenheit) and then perform the conversion.\n",
    "\n",
    "temperature = float(input(\"Enter temperature: \"))\n",
    "type_of_temp = input(\"Enter type:(C or F): \")\n",
    "\n",
    "if type_of_temp == \"C\":\n",
    "    farenhite = (temperature * (9/5)) + 32\n",
    "    print(\"Temperature in farhenhite : \" , farenhite)\n",
    "else :\n",
    "    celcius = (temperature - 32 )*(5/9)  \n",
    "    print(\"Temperature in celcius : \" , celcius)"
   ]
  },
  {
   "cell_type": "code",
   "execution_count": 14,
   "id": "f3efc2b4",
   "metadata": {},
   "outputs": [
    {
     "name": "stdout",
     "output_type": "stream",
     "text": [
      "Enter Weight: 53\n",
      "Enter height: 5.6\n",
      "Under weight\n"
     ]
    }
   ],
   "source": [
    "#write a python program that calculates the Body Mass Index (BMI) based on user input for weight (in kg) and height (in meters)\n",
    "#the formula for BMI is weight / (height ** 2)\n",
    "#display the BMI and categorize it as underweight, normal weight, overweight, or obese\n",
    "\n",
    "weight = float(input(\"Enter Weight: \"))\n",
    "height = float(input(\"Enter height: \"))\n",
    "\n",
    "BMI = weight/(height**2)\n",
    "\n",
    "if BMI <18.5:\n",
    "    print(\"Under weight\")\n",
    "elif BMI >= 18.5 and BMI<= 24.9:\n",
    "    print(\"Normal Weight\")\n",
    "elif BMI >= 25 and BMI<= 29.9:\n",
    "    print(\"Over Weight\")\n",
    "elif BMI >= 30 and BMI<= 39.9:\n",
    "    print(\"Obeses\")\n",
    "else:\n",
    "    print(\"Severely Obese\")\n"
   ]
  },
  {
   "cell_type": "code",
   "execution_count": 15,
   "id": "47363ea4",
   "metadata": {},
   "outputs": [
    {
     "name": "stdout",
     "output_type": "stream",
     "text": [
      "Enter Number 1: 10\n",
      "Enter Number 2: 15\n",
      "Number 2 greater than Number 1\n"
     ]
    }
   ],
   "source": [
    "#write a python program that takes two numbers as input and compares them \n",
    "#print whether the first number is greater than, less than, or equal to the second number.\n",
    "\n",
    "number1 = int(input(\"Enter Number 1: \"))\n",
    "number2 = int(input(\"Enter Number 2: \"))\n",
    "if number1 > number2:\n",
    "    print(\"Number 1 greater than Number 2\")\n",
    "else:\n",
    "    print(\"Number 2 greater than Number 1\")"
   ]
  },
  {
   "cell_type": "code",
   "execution_count": null,
   "id": "29d7a04c",
   "metadata": {},
   "outputs": [],
   "source": []
  }
 ],
 "metadata": {
  "kernelspec": {
   "display_name": "Python 3 (ipykernel)",
   "language": "python",
   "name": "python3"
  },
  "language_info": {
   "codemirror_mode": {
    "name": "ipython",
    "version": 3
   },
   "file_extension": ".py",
   "mimetype": "text/x-python",
   "name": "python",
   "nbconvert_exporter": "python",
   "pygments_lexer": "ipython3",
   "version": "3.11.5"
  }
 },
 "nbformat": 4,
 "nbformat_minor": 5
}
