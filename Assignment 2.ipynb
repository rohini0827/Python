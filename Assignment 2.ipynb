{
 "cells": [
  {
   "cell_type": "code",
   "execution_count": 1,
   "id": "8951fec4",
   "metadata": {},
   "outputs": [
    {
     "name": "stdout",
     "output_type": "stream",
     "text": [
      "Enter Length :12\n",
      "Enter Width :12\n",
      "Area of rectangle : 144.0\n"
     ]
    }
   ],
   "source": [
    "#Assi 2\n",
    "#write a python function area_of_rectangle(length, width) that calculates and returns the area of a rectangle\n",
    "#test the function with different values of length and width.\n",
    "\n",
    "def area_of_recatngle(length,width):\n",
    "    return length*width\n",
    "\n",
    "length = float(input(\"Enter Length :\"))\n",
    "width = float(input(\"Enter Width :\"))\n",
    "\n",
    "print(\"Area of rectangle :\" , area_of_recatngle(length,width))"
   ]
  },
  {
   "cell_type": "code",
   "execution_count": 2,
   "id": "9e9876bb",
   "metadata": {},
   "outputs": [
    {
     "name": "stdout",
     "output_type": "stream",
     "text": [
      "Number of vowels in the string is:  3\n"
     ]
    }
   ],
   "source": [
    "#write a python program that counts the number of vowels in a given string ignore case sensitivity\n",
    "\n",
    "def is_vowel(ch):\n",
    "    return ch=='a' or ch=='e' or ch=='i' or ch=='o' or ch=='u'\n",
    "\n",
    "string = \"Rohini\"\n",
    "no_vowel = 0\n",
    "for ch in string:\n",
    "    if is_vowel(ch):\n",
    "        no_vowel+=1\n",
    "\n",
    "print(\"Number of vowels in the string is: \" , no_vowel)"
   ]
  },
  {
   "cell_type": "code",
   "execution_count": 3,
   "id": "e9a5b128",
   "metadata": {},
   "outputs": [
    {
     "name": "stdout",
     "output_type": "stream",
     "text": [
      "Sum is:  84\n"
     ]
    }
   ],
   "source": [
    "#write a python function sum_numbers that takes a variable number of arguments and returns their sum\n",
    "#test the function with different numbers of arguments\n",
    "\n",
    "def sum(*arr):\n",
    "    s = 0\n",
    "    for num in arr:\n",
    "        s+=num\n",
    "    return s\n",
    "\n",
    "print(\"Sum is: \",sum(23,12,41,5,3))"
   ]
  },
  {
   "cell_type": "code",
   "execution_count": 4,
   "id": "2880134a",
   "metadata": {},
   "outputs": [
    {
     "name": "stdout",
     "output_type": "stream",
     "text": [
      "{'a': 3, 'b': 5}\n"
     ]
    }
   ],
   "source": [
    "#create a function print_details that accepts keyword arguments and prints them in the format: \"key: value\". \n",
    "#test the function with different sets of keyword arguments\n",
    "\n",
    "def print_details(**kwrgs):\n",
    "    print(kwrgs)\n",
    "\n",
    "print_details(a=3,b=5)"
   ]
  },
  {
   "cell_type": "code",
   "execution_count": 5,
   "id": "f639d902",
   "metadata": {},
   "outputs": [
    {
     "name": "stdout",
     "output_type": "stream",
     "text": [
      "Hello , Rohini\n",
      "How you doin? , Rohini\n"
     ]
    }
   ],
   "source": [
    "#create a function greet(name, msg=\"Hello\") that prints a greeting message. \n",
    "#if msg is not provided, it should default to \"Hello\". Test the function with different arguments.\n",
    "\n",
    "def greet(name,msg=\"Hello\"):\n",
    "    print(msg,',',name)\n",
    "\n",
    "greet(\"Rohini\")\n",
    "greet(\"Rohini\",\"How you doin?\")"
   ]
  },
  {
   "cell_type": "code",
   "execution_count": 6,
   "id": "d02501dc",
   "metadata": {},
   "outputs": [
    {
     "name": "stdout",
     "output_type": "stream",
     "text": [
      "erweD inihoR\n"
     ]
    }
   ],
   "source": [
    "#write a python program to reverse a given string without using built-in functions \n",
    "#for example, input \"hello\" should return \"olleh\".\n",
    "\n",
    "def reverse(string):\n",
    "    string = list(string)\n",
    "    l = len(string)\n",
    "    for i in range(l//2):\n",
    "        t = string[i]\n",
    "        string[i] = string[l-i-1]\n",
    "        string[l-i-1] = t\n",
    "    ans = ''\n",
    "    for x in string:\n",
    "        ans+=x\n",
    "    print(ans)\n",
    "\n",
    "reverse(\"Rohini Dewre\")"
   ]
  },
  {
   "cell_type": "code",
   "execution_count": 7,
   "id": "fb5d1890",
   "metadata": {},
   "outputs": [
    {
     "name": "stdout",
     "output_type": "stream",
     "text": [
      "Product is  6\n"
     ]
    }
   ],
   "source": [
    "#write a python function multiply (a, *args) that multiplies a fixed argument a with a variable number of additional arguments\n",
    "#return the product\n",
    "\n",
    "def multipy(a,*args):\n",
    "    pr = a\n",
    "    for num in args:\n",
    "        pr*=num\n",
    "    return pr\n",
    "\n",
    "print(\"Product is \",multipy(1,2,3))"
   ]
  },
  {
   "cell_type": "code",
   "execution_count": 8,
   "id": "4eabca8e",
   "metadata": {},
   "outputs": [
    {
     "name": "stdout",
     "output_type": "stream",
     "text": [
      "[2, 4, 6, 8, 10]\n"
     ]
    }
   ],
   "source": [
    "#write a python program to take a list of 10 elements and slice it to create a sublist containing every second element\n",
    "\n",
    "li = [1,2,3,4,5,6,7,8,9,10]\n",
    "print(li[1::2])"
   ]
  },
  {
   "cell_type": "code",
   "execution_count": 9,
   "id": "29fe5126",
   "metadata": {},
   "outputs": [
    {
     "name": "stdout",
     "output_type": "stream",
     "text": [
      "After adding a new key-value pair:  {'Name': 'Rohini', 'Age': 23, 'City': 'Pune', 'Occupation': 'Student', 'Hobby': 'Reading', 'College': 'Ferguson College'}\n",
      "After updating an existing key with new value:  {'Name': 'Rohini', 'Age': 23, 'City': 'Pune', 'Occupation': 'Student', 'Hobby': 'Dancing', 'College': 'Ferguson College'}\n",
      "After deleting a key-value pair from the dictionary:  {'Name': 'Rohini', 'City': 'Pune', 'Occupation': 'Student', 'Hobby': 'Dancing', 'College': 'Ferguson College'}\n"
     ]
    }
   ],
   "source": [
    "#create a dictionary with at least 5 key-value pairs write a python program to:\n",
    "#add a new key-value pair to the dictionary\n",
    "#update an existing key with a new value\n",
    "#delete a key-value pair from the dictionary\n",
    "\n",
    "\n",
    "my_dict = {\n",
    "    'Name': 'Rohini',\n",
    "    'Age': 23,\n",
    "    'City': 'Pune',\n",
    "    'Occupation': 'Student',\n",
    "    'Hobby': 'Reading'\n",
    "}\n",
    "\n",
    "my_dict['College'] = 'Ferguson College'\n",
    "print(\"After adding a new key-value pair: \", my_dict)\n",
    "\n",
    "my_dict['Hobby'] = 'Dancing'\n",
    "print(\"After updating an existing key with new value: \", my_dict)\n",
    "\n",
    "del my_dict['Age']\n",
    "print(\"After deleting a key-value pair from the dictionary: \", my_dict)\n"
   ]
  },
  {
   "cell_type": "code",
   "execution_count": null,
   "id": "f9232c19",
   "metadata": {},
   "outputs": [],
   "source": []
  }
 ],
 "metadata": {
  "kernelspec": {
   "display_name": "Python 3 (ipykernel)",
   "language": "python",
   "name": "python3"
  },
  "language_info": {
   "codemirror_mode": {
    "name": "ipython",
    "version": 3
   },
   "file_extension": ".py",
   "mimetype": "text/x-python",
   "name": "python",
   "nbconvert_exporter": "python",
   "pygments_lexer": "ipython3",
   "version": "3.11.5"
  }
 },
 "nbformat": 4,
 "nbformat_minor": 5
}
