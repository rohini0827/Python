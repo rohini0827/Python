{
 "cells": [
  {
   "cell_type": "code",
   "execution_count": 1,
   "id": "d257dd94",
   "metadata": {},
   "outputs": [
    {
     "name": "stdout",
     "output_type": "stream",
     "text": [
      "Max Studet Details:  ['Sham', 92]\n",
      "New Student Details Added\n",
      "Max Studet Details:  ['Eve', 95]\n",
      "[ Anay , 79 ]\n",
      "[ Eve , 95 ]\n",
      "[ Ojas , 88 ]\n",
      "[ Ram , 85 ]\n",
      "[ Sham , 92 ]\n"
     ]
    }
   ],
   "source": [
    "#Assi4\n",
    "#create a dictionary - student_grades = {'Ram': 85, 'Sham': 92, 'Ojas’': 88, 'Anay': 79}\n",
    "#write a python function to find the student with the highest grade\n",
    "#add a new student 'Eve' with a grade of 95\n",
    "#print all the student names and their grades in alphabetical order\n",
    "\n",
    "student_grades = {\n",
    "    'Ram':85,\n",
    "    'Sham':92,\n",
    "    'Ojas':88,\n",
    "    'Anay':79\n",
    "}\n",
    "def get_max_student_record():\n",
    "    max = -1\n",
    "    for k,v in student_grades.items():\n",
    "        if v>max:\n",
    "            max = v\n",
    "            ans = [k,v]\n",
    "    return ans\n",
    "\n",
    "\n",
    "print(\"Max Studet Details: \", get_max_student_record())\n",
    "\n",
    "print(\"New Student Details Added\")\n",
    "student_grades['Eve'] = 95\n",
    "\n",
    "print(\"Max Studet Details: \", get_max_student_record())\n",
    "\n",
    "for name in sorted(student_grades.keys()):\n",
    "    print(\"[\",name,\",\",student_grades.get(name),\"]\")"
   ]
  },
  {
   "cell_type": "code",
   "execution_count": 2,
   "id": "344f9419",
   "metadata": {},
   "outputs": [
    {
     "name": "stdout",
     "output_type": "stream",
     "text": [
      "Developer Present in tuple\n",
      "Employee Details Ater New Info :  ('John', 'Doe', 34, 'Developer', 'New York', 'Full-time')\n"
     ]
    }
   ],
   "source": [
    "#employee_data = ('John', 'Doe', 34, 'Developer', 'New York')\n",
    "#write a function to unpack the values of the tuple into separate variables\n",
    "#check if the value 'Developer' is present in the tuple\n",
    "#convert the tuple into a list and add a new element 'Full-time'\n",
    "\n",
    "employee_data = ('John','Doe',34,'Developer','New York')\n",
    "\n",
    "(first_name,last_name,age,job_roll,city) = employee_data\n",
    "\n",
    "if job_roll == 'Developer':\n",
    "    print(\"Developer Present in tuple\")\n",
    "else:\n",
    "    print(\"Developer ss not present in tuple\")\n",
    "\n",
    "employee_data_list = list(employee_data)\n",
    "employee_data_list.append('Full-time')\n",
    "\n",
    "employee_data = tuple(employee_data_list)\n",
    "print(\"Employee Details Ater New Info : \",employee_data)"
   ]
  },
  {
   "cell_type": "code",
   "execution_count": 3,
   "id": "57dd3950",
   "metadata": {},
   "outputs": [
    {
     "name": "stdout",
     "output_type": "stream",
     "text": [
      "Skills in Both Sets : {'Python'}\n",
      "Skills that are unique to skills_a : {'Java', 'SQL'}\n",
      "Union of both sets : {'HTML', 'SQL', 'Python', 'CSS', 'Java'}\n"
     ]
    }
   ],
   "source": [
    "#skills_A = {'Python', 'Java', 'SQL'}\n",
    "#skills_B = {'Python', 'HTML', 'CSS'}\n",
    "\n",
    "#Write a Python program to find:\n",
    "#Skills that are in both sets.\n",
    "#Skills that are unique to skills_A.\n",
    "#The union of both skill sets.\n",
    "\n",
    "skills_A  = {'Python','Java','SQL'}\n",
    "skills_B  = {'Python','HTML','CSS'}\n",
    "\n",
    "print(\"Skills in Both Sets :\" , skills_A & skills_B)\n",
    "print(\"Skills that are unique to skills_a :\" , skills_A - skills_B)\n",
    "print(\"Union of both sets :\" , skills_A | skills_B)"
   ]
  },
  {
   "cell_type": "code",
   "execution_count": 4,
   "id": "60c73ac3",
   "metadata": {},
   "outputs": [
    {
     "name": "stdout",
     "output_type": "stream",
     "text": [
      "8\n",
      "[1, 2, 3, 4]\n",
      "[5, 6, 7, 8]\n",
      "[1, 64, 2187, 65536]\n"
     ]
    }
   ],
   "source": [
    "#Write a lambda function that: takes two arguments and returns power of 1st arg by 2nd.\n",
    "#use this lambda function in the map() function to add corresponding elements of two lists:\n",
    "#list1 = [1, 2, 3, 4]   list2 = [5, 6, 7, 8]\n",
    "\n",
    "power = lambda x,y:x**y \n",
    "print(power(2,3))\n",
    "\n",
    "l1 = [1,2,3,4]\n",
    "l2 = [5,6,7,8]\n",
    "print(l1)\n",
    "print(l2)\n",
    "print(list(map(power,l1,l2)))"
   ]
  },
  {
   "cell_type": "code",
   "execution_count": 5,
   "id": "0c11e429",
   "metadata": {},
   "outputs": [
    {
     "name": "stdout",
     "output_type": "stream",
     "text": [
      "[2, 4, 6, 8, 10]\n"
     ]
    }
   ],
   "source": [
    "#Write a lambda function that checks if a number is even\n",
    "#Use this lambda with the filter() function to filter out even numbers from the following list\n",
    "#numbers = [1, 2, 3, 4, 5, 6, 7, 8, 9, 10]\n",
    "\n",
    "is_even = lambda x:x%2==0\n",
    "\n",
    "numbers = [1, 2, 3, 4, 5, 6, 7, 8, 9, 10]\n",
    "print(list(filter(is_even,numbers)))"
   ]
  },
  {
   "cell_type": "code",
   "execution_count": 6,
   "id": "6598eefd",
   "metadata": {},
   "outputs": [
    {
     "name": "stdout",
     "output_type": "stream",
     "text": [
      "[1, 2, 3, 4, 5]\n"
     ]
    }
   ],
   "source": [
    "#write a python program that removes the duplicate values from the list using a set\n",
    "#convert the set back into a list\n",
    "#List=> numbers = [1, 2, 2, 3, 4, 4, 5]\n",
    "\n",
    "numbers = [1, 2, 2, 3, 4, 4, 5]\n",
    "print(list(set(numbers)))"
   ]
  },
  {
   "cell_type": "code",
   "execution_count": null,
   "id": "56786b0a",
   "metadata": {},
   "outputs": [],
   "source": []
  }
 ],
 "metadata": {
  "kernelspec": {
   "display_name": "Python 3 (ipykernel)",
   "language": "python",
   "name": "python3"
  },
  "language_info": {
   "codemirror_mode": {
    "name": "ipython",
    "version": 3
   },
   "file_extension": ".py",
   "mimetype": "text/x-python",
   "name": "python",
   "nbconvert_exporter": "python",
   "pygments_lexer": "ipython3",
   "version": "3.11.5"
  }
 },
 "nbformat": 4,
 "nbformat_minor": 5
}
