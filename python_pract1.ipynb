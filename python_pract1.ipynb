{
 "cells": [
  {
   "cell_type": "code",
   "execution_count": 1,
   "id": "bd8800e9",
   "metadata": {},
   "outputs": [],
   "source": [
    "#Assi1\n",
    "#create variables of different data types string, integer, float, boolean and print their values and types\n",
    "\n",
    "string_var = \"Hello, World!\"\n",
    "integer_var = 42               \n",
    "float_var = 3.14               \n",
    "boolean_var = True "
   ]
  },
  {
   "cell_type": "code",
   "execution_count": 2,
   "id": "9599ef4d",
   "metadata": {},
   "outputs": [
    {
     "name": "stdout",
     "output_type": "stream",
     "text": [
      "string_var: Hello, World!, Type: <class 'str'>\n",
      "integer_var: 42, Type: <class 'int'>\n",
      "float_var: 3.14, Type: <class 'float'>\n",
      "boolean_var: True, Type: <class 'bool'>\n"
     ]
    }
   ],
   "source": [
    "print(f\"string_var: {string_var}, Type: {type(string_var)}\")\n",
    "print(f\"integer_var: {integer_var}, Type: {type(integer_var)}\")\n",
    "print(f\"float_var: {float_var}, Type: {type(float_var)}\")\n",
    "print(f\"boolean_var: {boolean_var}, Type: {type(boolean_var)}\")"
   ]
  },
  {
   "cell_type": "code",
   "execution_count": 4,
   "id": "c94c2c6d",
   "metadata": {},
   "outputs": [
    {
     "name": "stdout",
     "output_type": "stream",
     "text": [
      "Enter your name: rohini\n",
      "Enter your age: 23\n",
      "Hello, I'm rohini! I'm 23 years old.\n"
     ]
    }
   ],
   "source": [
    "#write a python program that asks the user for their name and age, \n",
    "#then prints a message saying \"Hello, [Name]! You are [Age] years old.\"\n",
    "\n",
    "\n",
    "name = input('Enter your name: ')\n",
    "age = input('Enter your age: ')\n",
    "print(f\"Hello, I'm {name}! I'm {age} years old.\")"
   ]
  },
  {
   "cell_type": "code",
   "execution_count": 10,
   "id": "1beb204d",
   "metadata": {},
   "outputs": [
    {
     "name": "stdout",
     "output_type": "stream",
     "text": [
      "Enter the first number: 8\n",
      "Enter the second number: 8\n",
      "Enter an operator (+, -, *, /, %, **, //): +\n",
      "The result of 8.0 + 8.0 is: 16.0\n"
     ]
    }
   ],
   "source": [
    "#create a simple calculator that allows the user to input two numbers \n",
    "#and an operator (+, -, *, /, %, **, //) \n",
    "#based on the operator provided the program should perform the corresponding arithmetic operation and display the result\n",
    "\n",
    "\n",
    "def calculator():\n",
    "    num1 = float(input(\"Enter the first number: \"))\n",
    "    num2 = float(input(\"Enter the second number: \"))\n",
    "    operator = input(\"Enter an operator (+, -, *, /, %, **, //): \")\n",
    "\n",
    "    if operator == '+':\n",
    "        result = num1 + num2\n",
    "    elif operator == '-':\n",
    "        result = num1 - num2\n",
    "    elif operator == '*':\n",
    "        result = num1 * num2\n",
    "    elif operator == '/':\n",
    "        if num2 != 0:  \n",
    "            result = num1 / num2\n",
    "        else:\n",
    "            return \"Error: Division by zero!\"\n",
    "    elif operator == '%':\n",
    "        if num2 != 0:  \n",
    "            result = num1 % num2\n",
    "        else:\n",
    "            return \"Error: Division by zero!\"\n",
    "    elif operator == '':\n",
    "        result = num1 ** num2\n",
    "    elif operator == '//':\n",
    "        if num2 != 0:  \n",
    "            result = num1 // num2\n",
    "        else:\n",
    "            return \"Error: Division by zero!\"\n",
    "    else:\n",
    "        return \"Invalid operator!\"\n",
    "\n",
    "    return f\"The result of {num1} {operator} {num2} is: {result}\"\n",
    "\n",
    "print(calculator())"
   ]
  },
  {
   "cell_type": "code",
   "execution_count": 11,
   "id": "69bc2b65",
   "metadata": {},
   "outputs": [
    {
     "name": "stdout",
     "output_type": "stream",
     "text": [
      "Enter the length of the rectangle: 15\n",
      "Enter the width of the rectangle: 10\n",
      "The area of the rectangle is: 150.0\n",
      "The perimeter of the rectangle is: 50.0\n"
     ]
    }
   ],
   "source": [
    "#write a python program that takes the length and width of a rectangle as input and calculates its area and perimeter\n",
    "#display the results\n",
    "\n",
    "def calculate_area(length, width):\n",
    "    return length * width\n",
    "\n",
    "def calculate_perimeter(length, width):\n",
    "    return 2 * (length + width)\n",
    "\n",
    "length = float(input(\"Enter the length of the rectangle: \"))\n",
    "width = float(input(\"Enter the width of the rectangle: \"))\n",
    "\n",
    "area = calculate_area(length, width)\n",
    "perimeter = calculate_perimeter(length, width)\n",
    "\n",
    "print(f\"The area of the rectangle is: {area}\")\n",
    "print(f\"The perimeter of the rectangle is: {perimeter}\")\n"
   ]
  },
  {
   "cell_type": "code",
   "execution_count": 12,
   "id": "1e1fcc70",
   "metadata": {},
   "outputs": [
    {
     "name": "stdout",
     "output_type": "stream",
     "text": [
      "Enter an integer: 12\n",
      "12 is even.\n"
     ]
    }
   ],
   "source": [
    "#write a python program that takes an integer as input and determines if it is even or odd and Print the result\n",
    "\n",
    "number = int(input(\"Enter an integer: \"))\n",
    "\n",
    "if number % 2 == 0:\n",
    "    print(f\"{number} is even.\")\n",
    "else:\n",
    "    print(f\"{number} is odd.\")"
   ]
  },
  {
   "cell_type": "code",
   "execution_count": 13,
   "id": "75dbaead",
   "metadata": {},
   "outputs": [
    {
     "name": "stdout",
     "output_type": "stream",
     "text": [
      "Enter the principal amount: 45\n",
      "Enter the rate of interest (%): 5\n",
      "Enter the time period (in years): 10\n",
      "The calculated simple interest is: 22.50\n"
     ]
    }
   ],
   "source": [
    "#write a python program that takes the principal amount, rate of interest, and time period as inputs and calculates the simple interest. \n",
    "#display the calculated interest\n",
    "\n",
    "def calculate_simple_interest(principal, rate, time):\n",
    "    simple_interest = (principal * rate * time) / 100\n",
    "    return simple_interest\n",
    "\n",
    "principal = float(input(\"Enter the principal amount: \"))\n",
    "rate = float(input(\"Enter the rate of interest (%): \"))\n",
    "time = float(input(\"Enter the time period (in years): \"))\n",
    "\n",
    "interest = calculate_simple_interest(principal, rate, time)\n",
    "\n",
    "print(f\"The calculated simple interest is: {interest:.2f}\")"
   ]
  },
  {
   "cell_type": "code",
   "execution_count": 14,
   "id": "1b862af1",
   "metadata": {},
   "outputs": [
    {
     "name": "stdout",
     "output_type": "stream",
     "text": [
      "Enter the first number: 4\n",
      "Enter the second number: 4\n",
      "Enter the third number: 5\n",
      "The average of 4.0, 4.0, and 5.0 is 4.333333333333333.\n"
     ]
    }
   ],
   "source": [
    "#write a Python program that takes three numbers as input and calculates their average. Print the result\n",
    "\n",
    "num1 = float(input(\"Enter the first number: \"))\n",
    "num2 = float(input(\"Enter the second number: \"))\n",
    "num3 = float(input(\"Enter the third number: \"))\n",
    "\n",
    "average = (num1 + num2 + num3) / 3\n",
    "\n",
    "print(f\"The average of {num1}, {num2}, and {num3} is {average}.\")"
   ]
  },
  {
   "cell_type": "code",
   "execution_count": 15,
   "id": "ed6cdb7c",
   "metadata": {},
   "outputs": [
    {
     "name": "stdout",
     "output_type": "stream",
     "text": [
      "5 == 5 : True\n",
      "5 != 5 : False\n",
      "5 > 5  : False\n",
      "5 < 5  : False\n",
      "5 >= 5 : True\n",
      "5 <= 5 : True\n"
     ]
    }
   ],
   "source": [
    "#wrrite a python program to demonstrate the relational operators\n",
    "\n",
    "a = 5\n",
    "b = 5\n",
    "\n",
    "print(f\"{a} == {b} : {a == b}\")  \n",
    "print(f\"{a} != {b} : {a != b}\")   \n",
    "print(f\"{a} > {b}  : {a > b}\")   \n",
    "print(f\"{a} < {b}  : {a < b}\")   \n",
    "print(f\"{a} >= {b} : {a >= b}\")  \n",
    "print(f\"{a} <= {b} : {a <= b}\")  "
   ]
  },
  {
   "cell_type": "code",
   "execution_count": 16,
   "id": "3c482a81",
   "metadata": {},
   "outputs": [
    {
     "name": "stdout",
     "output_type": "stream",
     "text": [
      "20 & 20 = 20\n",
      "20 | 20 = 20\n",
      "20 ^ 20 = 0\n",
      "~20 = -21\n",
      "20 << 2 = 80\n",
      "20 >> 2 = 5\n"
     ]
    }
   ],
   "source": [
    "#write a python program to demonstrate the the bitwise operators\n",
    "\n",
    "a = 20\n",
    "b = 20\n",
    "\n",
    "result_and = a & b \n",
    "print(f\"{a} & {b} = {result_and}\")\n",
    "\n",
    "result_or = a | b \n",
    "print(f\"{a} | {b} = {result_or}\")\n",
    "\n",
    "result_xor = a ^ b  \n",
    "print(f\"{a} ^ {b} = {result_xor}\")\n",
    "\n",
    "result_not = ~a  \n",
    "print(f\"~{a} = {result_not}\")\n",
    "\n",
    "result_left_shift = a << 2 \n",
    "print(f\"{a} << 2 = {result_left_shift}\")\n",
    "\n",
    "result_right_shift = a >> 2  \n",
    "print(f\"{a} >> 2 = {result_right_shift}\")"
   ]
  },
  {
   "cell_type": "code",
   "execution_count": 17,
   "id": "7dbcb8a7",
   "metadata": {},
   "outputs": [
    {
     "name": "stdout",
     "output_type": "stream",
     "text": [
      "Type of integer_var: <class 'int'>\n",
      "Type of float_var: <class 'float'>\n",
      "Type of string_var: <class 'str'>\n",
      "Type of boolean_var: <class 'bool'>\n",
      "Type of list_var: <class 'list'>\n",
      "Type of tuple_var: <class 'tuple'>\n",
      "Type of dict_var: <class 'dict'>\n"
     ]
    }
   ],
   "source": [
    "#write a python program to print the type of the variables used in the program\n",
    "\n",
    "integer_var = 10\n",
    "float_var = 3.14\n",
    "string_var = \"Hello, World!\"\n",
    "boolean_var = True\n",
    "list_var = [1, 2, 3, 4, 5]\n",
    "tuple_var = (1, 2, 3)\n",
    "dict_var = {\"key\": \"value\"}\n",
    "\n",
    "print(f'Type of integer_var: {type(integer_var)}')\n",
    "print(f'Type of float_var: {type(float_var)}')\n",
    "print(f'Type of string_var: {type(string_var)}')\n",
    "print(f'Type of boolean_var: {type(boolean_var)}')\n",
    "print(f'Type of list_var: {type(list_var)}')\n",
    "print(f'Type of tuple_var: {type(tuple_var)}')\n",
    "print(f'Type of dict_var: {type(dict_var)}')"
   ]
  },
  {
   "cell_type": "code",
   "execution_count": 18,
   "id": "6cd9e5d9",
   "metadata": {},
   "outputs": [
    {
     "name": "stdout",
     "output_type": "stream",
     "text": [
      "Enter the first number: 8\n",
      "Enter the second number: 8\n",
      "\n",
      "The results of arithmetic operations on 8.0 and 8.0 are:\n",
      "Addition: 8.0 + 8.0 = 16.0\n",
      "Subtraction: 8.0 - 8.0 = 0.0\n",
      "Multiplication: 8.0 * 8.0 = 64.0\n",
      "Division: 8.0 / 8.0 = 1.0\n"
     ]
    }
   ],
   "source": [
    "#write a python program to read values from the user and apply the arithmetic operations on those values \n",
    "#[do not use exception handling]\n",
    "\n",
    "num1 = float(input(\"Enter the first number: \"))\n",
    "num2 = float(input(\"Enter the second number: \"))\n",
    "\n",
    "addition = num1 + num2\n",
    "subtraction = num1 - num2\n",
    "multiplication = num1 * num2\n",
    "division = num1 / num2\n",
    "\n",
    "print(f\"\\nThe results of arithmetic operations on {num1} and {num2} are:\")\n",
    "print(f\"Addition: {num1} + {num2} = {addition}\")\n",
    "print(f\"Subtraction: {num1} - {num2} = {subtraction}\")\n",
    "print(f\"Multiplication: {num1} * {num2} = {multiplication}\")\n",
    "print(f\"Division: {num1} / {num2} = {division}\")"
   ]
  },
  {
   "cell_type": "code",
   "execution_count": 4,
   "id": "6e5edd2c",
   "metadata": {},
   "outputs": [
    {
     "name": "stdout",
     "output_type": "stream",
     "text": [
      "Enter temperature: 21\n",
      "Enter type:(C or F): C\n",
      "Temperature in farhenhite :  69.80000000000001\n"
     ]
    }
   ],
   "source": [
    "#write a python program that converts temperature from celsius to fahrenheit and vice versa\n",
    "#the program should ask the user for the temperature value and the unit (celsius or fahrenheit) and then perform the conversion.\n",
    "\n",
    "temperature = float(input(\"Enter temperature: \"))\n",
    "type_of_temp = input(\"Enter type:(C or F): \")\n",
    "\n",
    "if type_of_temp == \"C\":\n",
    "    farenhite = (temperature * (9/5)) + 32\n",
    "    print(\"Temperature in farhenhite : \" , farenhite)\n",
    "else :\n",
    "    celcius = (temperature - 32 )*(5/9)  \n",
    "    print(\"Temperature in celcius : \" , celcius)"
   ]
  },
  {
   "cell_type": "code",
   "execution_count": 5,
   "id": "d38e69c8",
   "metadata": {},
   "outputs": [
    {
     "name": "stdout",
     "output_type": "stream",
     "text": [
      "Enter Weight: 53\n",
      "Enter height: 5.6\n",
      "Under weight\n"
     ]
    }
   ],
   "source": [
    "#write a python program that calculates the Body Mass Index (BMI) based on user input for weight (in kg) and height (in meters)\n",
    "#the formula for BMI is weight / (height ** 2)\n",
    "#display the BMI and categorize it as underweight, normal weight, overweight, or obese\n",
    "\n",
    "weight = float(input(\"Enter Weight: \"))\n",
    "height = float(input(\"Enter height: \"))\n",
    "\n",
    "BMI = weight/(height**2)\n",
    "\n",
    "if BMI <18.5:\n",
    "    print(\"Under weight\")\n",
    "elif BMI >= 18.5 and BMI<= 24.9:\n",
    "    print(\"Normal Weight\")\n",
    "elif BMI >= 25 and BMI<= 29.9:\n",
    "    print(\"Over Weight\")\n",
    "elif BMI >= 30 and BMI<= 39.9:\n",
    "    print(\"Obeses\")\n",
    "else:\n",
    "    print(\"Severely Obese\")\n"
   ]
  },
  {
   "cell_type": "code",
   "execution_count": 6,
   "id": "2434ff4a",
   "metadata": {},
   "outputs": [
    {
     "name": "stdout",
     "output_type": "stream",
     "text": [
      "Enter Number 1: 22\n",
      "Enter Number 2: 55\n",
      "Number 2 greater than Number 1\n"
     ]
    }
   ],
   "source": [
    "#write a python program that takes two numbers as input and compares them \n",
    "#print whether the first number is greater than, less than, or equal to the second number.\n",
    "\n",
    "number1 = int(input(\"Enter Number 1: \"))\n",
    "number2 = int(input(\"Enter Number 2: \"))\n",
    "if number1 > number2:\n",
    "    print(\"Number 1 greater than Number 2\")\n",
    "else:\n",
    "    print(\"Number 2 greater than Number 1\")"
   ]
  },
  {
   "cell_type": "code",
   "execution_count": 8,
   "id": "8a478faf",
   "metadata": {},
   "outputs": [
    {
     "name": "stdout",
     "output_type": "stream",
     "text": [
      "Enter Length :15\n",
      "Enter Width :12\n",
      "Area of rectangle : 180.0\n"
     ]
    }
   ],
   "source": [
    "#Assi 2\n",
    "#write a python function area_of_rectangle(length, width) that calculates and returns the area of a rectangle\n",
    "#test the function with different values of length and width.\n",
    "\n",
    "def area_of_recatngle(length,width):\n",
    "    return length*width\n",
    "\n",
    "length = float(input(\"Enter Length :\"))\n",
    "width = float(input(\"Enter Width :\"))\n",
    "\n",
    "print(\"Area of rectangle :\" , area_of_recatngle(length,width))"
   ]
  },
  {
   "cell_type": "code",
   "execution_count": 9,
   "id": "f4cc2e3e",
   "metadata": {},
   "outputs": [
    {
     "name": "stdout",
     "output_type": "stream",
     "text": [
      "Number of vowels in the string is:  3\n"
     ]
    }
   ],
   "source": [
    "#write a python program that counts the number of vowels in a given string ignore case sensitivity\n",
    "\n",
    "def is_vowel(ch):\n",
    "    return ch=='a' or ch=='e' or ch=='i' or ch=='o' or ch=='u'\n",
    "\n",
    "string = \"Rohini\"\n",
    "no_vowel = 0\n",
    "for ch in string:\n",
    "    if is_vowel(ch):\n",
    "        no_vowel+=1\n",
    "\n",
    "print(\"Number of vowels in the string is: \" , no_vowel)"
   ]
  },
  {
   "cell_type": "code",
   "execution_count": 10,
   "id": "b42a83f3",
   "metadata": {},
   "outputs": [
    {
     "name": "stdout",
     "output_type": "stream",
     "text": [
      "Sum is:  84\n"
     ]
    }
   ],
   "source": [
    "#write a python function sum_numbers that takes a variable number of arguments and returns their sum\n",
    "#test the function with different numbers of arguments\n",
    "\n",
    "def sum(*arr):\n",
    "    s = 0\n",
    "    for num in arr:\n",
    "        s+=num\n",
    "    return s\n",
    "\n",
    "print(\"Sum is: \",sum(23,12,41,5,3))"
   ]
  },
  {
   "cell_type": "code",
   "execution_count": 11,
   "id": "3b233c7e",
   "metadata": {},
   "outputs": [
    {
     "name": "stdout",
     "output_type": "stream",
     "text": [
      "{'a': 3, 'b': 5}\n"
     ]
    }
   ],
   "source": [
    "#create a function print_details that accepts keyword arguments and prints them in the format: \"key: value\". \n",
    "#test the function with different sets of keyword arguments\n",
    "\n",
    "def print_details(**kwrgs):\n",
    "    print(kwrgs)\n",
    "\n",
    "print_details(a=3,b=5)"
   ]
  },
  {
   "cell_type": "code",
   "execution_count": 13,
   "id": "5254d872",
   "metadata": {},
   "outputs": [
    {
     "name": "stdout",
     "output_type": "stream",
     "text": [
      "Hello , Rohini\n",
      "How you doin? , Rohini\n"
     ]
    }
   ],
   "source": [
    "#create a function greet(name, msg=\"Hello\") that prints a greeting message. \n",
    "#if msg is not provided, it should default to \"Hello\". Test the function with different arguments.\n",
    "\n",
    "def greet(name,msg=\"Hello\"):\n",
    "    print(msg,',',name)\n",
    "\n",
    "greet(\"Rohini\")\n",
    "greet(\"Rohini\",\"How you doin?\")"
   ]
  },
  {
   "cell_type": "code",
   "execution_count": 14,
   "id": "6dc19ef6",
   "metadata": {},
   "outputs": [
    {
     "name": "stdout",
     "output_type": "stream",
     "text": [
      "erweD inihoR\n"
     ]
    }
   ],
   "source": [
    "#write a python program to reverse a given string without using built-in functions \n",
    "#for example, input \"hello\" should return \"olleh\".\n",
    "\n",
    "def reverse(string):\n",
    "    string = list(string)\n",
    "    l = len(string)\n",
    "    for i in range(l//2):\n",
    "        t = string[i]\n",
    "        string[i] = string[l-i-1]\n",
    "        string[l-i-1] = t\n",
    "    ans = ''\n",
    "    for x in string:\n",
    "        ans+=x\n",
    "    print(ans)\n",
    "\n",
    "reverse(\"Rohini Dewre\")"
   ]
  },
  {
   "cell_type": "code",
   "execution_count": 15,
   "id": "501ed411",
   "metadata": {},
   "outputs": [
    {
     "name": "stdout",
     "output_type": "stream",
     "text": [
      "Product is  6\n"
     ]
    }
   ],
   "source": [
    "#write a python function multiply (a, *args) that multiplies a fixed argument a with a variable number of additional arguments\n",
    "#return the product\n",
    "\n",
    "def multipy(a,*args):\n",
    "    pr = a\n",
    "    for num in args:\n",
    "        pr*=num\n",
    "    return pr\n",
    "\n",
    "print(\"Product is \",multipy(1,2,3))"
   ]
  },
  {
   "cell_type": "code",
   "execution_count": 16,
   "id": "1ec96f39",
   "metadata": {},
   "outputs": [
    {
     "name": "stdout",
     "output_type": "stream",
     "text": [
      "[2, 4, 6, 8, 10]\n"
     ]
    }
   ],
   "source": [
    "#write a python program to take a list of 10 elements and slice it to create a sublist containing every second element\n",
    "\n",
    "li = [1,2,3,4,5,6,7,8,9,10]\n",
    "print(li[1::2])"
   ]
  },
  {
   "cell_type": "code",
   "execution_count": 19,
   "id": "245c78a1",
   "metadata": {},
   "outputs": [
    {
     "name": "stdout",
     "output_type": "stream",
     "text": [
      "After adding a new key-value pair:  {'Name': 'Rohini', 'Age': 23, 'City': 'Pune', 'Occupation': 'Student', 'Hobby': 'Reading', 'College': 'Ferguson College'}\n",
      "After updating an existing key with new value:  {'Name': 'Rohini', 'Age': 23, 'City': 'Pune', 'Occupation': 'Student', 'Hobby': 'Dancing', 'College': 'Ferguson College'}\n",
      "After deleting a key-value pair from the dictionary:  {'Name': 'Rohini', 'City': 'Pune', 'Occupation': 'Student', 'Hobby': 'Dancing', 'College': 'Ferguson College'}\n"
     ]
    }
   ],
   "source": [
    "#create a dictionary with at least 5 key-value pairs write a python program to:\n",
    "#add a new key-value pair to the dictionary\n",
    "#update an existing key with a new value\n",
    "#delete a key-value pair from the dictionary\n",
    "\n",
    "\n",
    "my_dict = {\n",
    "    'Name': 'Rohini',\n",
    "    'Age': 23,\n",
    "    'City': 'Pune',\n",
    "    'Occupation': 'Student',\n",
    "    'Hobby': 'Reading'\n",
    "}\n",
    "\n",
    "my_dict['College'] = 'Ferguson College'\n",
    "print(\"After adding a new key-value pair: \", my_dict)\n",
    "\n",
    "my_dict['Hobby'] = 'Dancing'\n",
    "print(\"After updating an existing key with new value: \", my_dict)\n",
    "\n",
    "del my_dict['Age']\n",
    "print(\"After deleting a key-value pair from the dictionary: \", my_dict)\n"
   ]
  },
  {
   "cell_type": "code",
   "execution_count": 23,
   "id": "17070e76",
   "metadata": {},
   "outputs": [
    {
     "name": "stdout",
     "output_type": "stream",
     "text": [
      "The area of a circle with radius 5 is: 78.54\n"
     ]
    }
   ],
   "source": [
    "#Assi 3\n",
    "#create a python module with a function that calculates the area of a circle\n",
    "#import this module in another script and use it to find the area for a radius of 5\n",
    "\n",
    "import math\n",
    "\n",
    "def area_of_circle(radius):\n",
    "    return math.pi * radius ** 2\n",
    "\n",
    "radius = 5\n",
    "\n",
    "area = area_of_circle(radius)\n",
    "\n",
    "print(f\"The area of a circle with radius {radius} is: {area:.2f}\")\n"
   ]
  },
  {
   "cell_type": "code",
   "execution_count": 2,
   "id": "a980332f",
   "metadata": {},
   "outputs": [
    {
     "name": "stdout",
     "output_type": "stream",
     "text": [
      "Current date and time: 2024-09-14 14:55:10.343828\n"
     ]
    }
   ],
   "source": [
    "#create a python function that imports datetime and returns the current date and time.\n",
    "\n",
    "from datetime import datetime\n",
    "\n",
    "def get_current_date_time():\n",
    "\n",
    "    return datetime.now()\n",
    "\n",
    "current_time = get_current_date_time()\n",
    "print(f\"Current date and time: {current_time}\")\n"
   ]
  },
  {
   "cell_type": "code",
   "execution_count": 24,
   "id": "c0c845b3",
   "metadata": {},
   "outputs": [
    {
     "name": "stdout",
     "output_type": "stream",
     "text": [
      "2024-09-28 01:54:51.534952\n"
     ]
    }
   ],
   "source": [
    "from datetime import *\n",
    "print(datetime.now())"
   ]
  },
  {
   "cell_type": "code",
   "execution_count": 3,
   "id": "6df2485d",
   "metadata": {},
   "outputs": [
    {
     "data": {
      "text/plain": [
       "True"
      ]
     },
     "execution_count": 3,
     "metadata": {},
     "output_type": "execute_result"
    }
   ],
   "source": [
    "#create a lambda function to check if a string starts with the letter 'A'\n",
    "\n",
    "(lambda s: s[0].lower() == 'a')('Apple')"
   ]
  },
  {
   "cell_type": "code",
   "execution_count": 5,
   "id": "59d89342",
   "metadata": {},
   "outputs": [
    {
     "data": {
      "text/plain": [
       "120"
      ]
     },
     "execution_count": 5,
     "metadata": {},
     "output_type": "execute_result"
    }
   ],
   "source": [
    "#write a function that imports your custom module (e.g., math_utils.py) \n",
    "#and uses a function from it to calculate the factorial of a number\n",
    "\n",
    "\n",
    "def factorial(n):\n",
    "        \n",
    "        if n == 0 or n == 1:\n",
    "            return 1\n",
    "        else:\n",
    "            return n * factorial(n-1)\n",
    "        \n",
    "factorial(5)"
   ]
  },
  {
   "cell_type": "code",
   "execution_count": 7,
   "id": "d9320253",
   "metadata": {},
   "outputs": [
    {
     "name": "stdout",
     "output_type": "stream",
     "text": [
      "[4, 2, 4, 5]\n"
     ]
    }
   ],
   "source": [
    "#create a function that rounds a list of numbers to the nearest whole number\n",
    "\n",
    "round_list = [4.5,2,3.8,5]\n",
    "print(list(map(round,round_list)))"
   ]
  },
  {
   "cell_type": "code",
   "execution_count": 8,
   "id": "de21c40e",
   "metadata": {},
   "outputs": [
    {
     "name": "stdout",
     "output_type": "stream",
     "text": [
      "[1.9, 4.8, 2.7]\n"
     ]
    }
   ],
   "source": [
    "#use round() inside map() to round a list of floating-point numbers to 1 decimal place.\n",
    "\n",
    "round_list = [1.897,4.7864,2.654]\n",
    "print(list(map(lambda n:round(n,1),round_list)))"
   ]
  },
  {
   "cell_type": "code",
   "execution_count": 26,
   "id": "a96e6a1d",
   "metadata": {},
   "outputs": [
    {
     "name": "stdout",
     "output_type": "stream",
     "text": [
      "[4, 6]\n"
     ]
    }
   ],
   "source": [
    "#write a function that takes two lists and uses map()to return a list of the sums  of corresponding elements\n",
    "#example: add_lists([1, 2], [3, 4]) should return [4, 6].\n",
    "\n",
    "print(list(map(lambda l1,l2:l1+l2,[1,2],[3,4])))"
   ]
  },
  {
   "cell_type": "code",
   "execution_count": 27,
   "id": "a6742dbd",
   "metadata": {},
   "outputs": [
    {
     "name": "stdout",
     "output_type": "stream",
     "text": [
      "Max Studet Details:  ['Sham', 92]\n",
      "New Student Details Added\n",
      "Max Studet Details:  ['Eve', 95]\n",
      "[ Anay , 79 ]\n",
      "[ Eve , 95 ]\n",
      "[ Ojas , 88 ]\n",
      "[ Ram , 85 ]\n",
      "[ Sham , 92 ]\n"
     ]
    }
   ],
   "source": [
    "#Assi4\n",
    "#create a dictionary - student_grades = {'Ram': 85, 'Sham': 92, 'Ojas’': 88, 'Anay': 79}\n",
    "#write a python function to find the student with the highest grade\n",
    "#add a new student 'Eve' with a grade of 95\n",
    "#print all the student names and their grades in alphabetical order\n",
    "\n",
    "student_grades = {\n",
    "    'Ram':85,\n",
    "    'Sham':92,\n",
    "    'Ojas':88,\n",
    "    'Anay':79\n",
    "}\n",
    "def get_max_student_record():\n",
    "    max = -1\n",
    "    for k,v in student_grades.items():\n",
    "        if v>max:\n",
    "            max = v\n",
    "            ans = [k,v]\n",
    "    return ans\n",
    "\n",
    "\n",
    "print(\"Max Studet Details: \", get_max_student_record())\n",
    "\n",
    "print(\"New Student Details Added\")\n",
    "student_grades['Eve'] = 95\n",
    "\n",
    "print(\"Max Studet Details: \", get_max_student_record())\n",
    "\n",
    "for name in sorted(student_grades.keys()):\n",
    "    print(\"[\",name,\",\",student_grades.get(name),\"]\")"
   ]
  },
  {
   "cell_type": "code",
   "execution_count": 28,
   "id": "c6374ce1",
   "metadata": {},
   "outputs": [
    {
     "name": "stdout",
     "output_type": "stream",
     "text": [
      "Developer Present in tuple\n",
      "Employee Details Ater New Info :  ('John', 'Doe', 34, 'Developer', 'New York', 'Full-time')\n"
     ]
    }
   ],
   "source": [
    "#employee_data = ('John', 'Doe', 34, 'Developer', 'New York')\n",
    "#write a function to unpack the values of the tuple into separate variables\n",
    "#check if the value 'Developer' is present in the tuple\n",
    "#convert the tuple into a list and add a new element 'Full-time'\n",
    "\n",
    "employee_data = ('John','Doe',34,'Developer','New York')\n",
    "\n",
    "(first_name,last_name,age,job_roll,city) = employee_data\n",
    "\n",
    "if job_roll == 'Developer':\n",
    "    print(\"Developer Present in tuple\")\n",
    "else:\n",
    "    print(\"Developer ss not present in tuple\")\n",
    "\n",
    "employee_data_list = list(employee_data)\n",
    "employee_data_list.append('Full-time')\n",
    "\n",
    "employee_data = tuple(employee_data_list)\n",
    "print(\"Employee Details Ater New Info : \",employee_data)"
   ]
  },
  {
   "cell_type": "code",
   "execution_count": 29,
   "id": "22e8469c",
   "metadata": {},
   "outputs": [
    {
     "name": "stdout",
     "output_type": "stream",
     "text": [
      "Skills in Both Sets : {'Python'}\n",
      "Skills that are unique to skills_a : {'SQL', 'Java'}\n",
      "Union of both sets : {'SQL', 'HTML', 'Java', 'CSS', 'Python'}\n"
     ]
    }
   ],
   "source": [
    "#skills_A = {'Python', 'Java', 'SQL'}\n",
    "#skills_B = {'Python', 'HTML', 'CSS'}\n",
    "\n",
    "#Write a Python program to find:\n",
    "#Skills that are in both sets.\n",
    "#Skills that are unique to skills_A.\n",
    "#The union of both skill sets.\n",
    "\n",
    "skills_A  = {'Python','Java','SQL'}\n",
    "skills_B  = {'Python','HTML','CSS'}\n",
    "\n",
    "print(\"Skills in Both Sets :\" , skills_A & skills_B)\n",
    "print(\"Skills that are unique to skills_a :\" , skills_A - skills_B)\n",
    "print(\"Union of both sets :\" , skills_A | skills_B)"
   ]
  },
  {
   "cell_type": "code",
   "execution_count": 30,
   "id": "aa0a46cb",
   "metadata": {},
   "outputs": [
    {
     "name": "stdout",
     "output_type": "stream",
     "text": [
      "8\n",
      "[1, 2, 3, 4]\n",
      "[5, 6, 7, 8]\n",
      "[1, 64, 2187, 65536]\n"
     ]
    }
   ],
   "source": [
    "#Write a lambda function that: takes two arguments and returns power of 1st arg by 2nd.\n",
    "#use this lambda function in the map() function to add corresponding elements of two lists:\n",
    "#list1 = [1, 2, 3, 4]   list2 = [5, 6, 7, 8]\n",
    "\n",
    "power = lambda x,y:x**y \n",
    "print(power(2,3))\n",
    "\n",
    "l1 = [1,2,3,4]\n",
    "l2 = [5,6,7,8]\n",
    "print(l1)\n",
    "print(l2)\n",
    "print(list(map(power,l1,l2)))"
   ]
  },
  {
   "cell_type": "code",
   "execution_count": 31,
   "id": "1642cb2f",
   "metadata": {},
   "outputs": [
    {
     "name": "stdout",
     "output_type": "stream",
     "text": [
      "[2, 4, 6, 8, 10]\n"
     ]
    }
   ],
   "source": [
    "#Write a lambda function that checks if a number is even\n",
    "#Use this lambda with the filter() function to filter out even numbers from the following list\n",
    "#numbers = [1, 2, 3, 4, 5, 6, 7, 8, 9, 10]\n",
    "\n",
    "is_even = lambda x:x%2==0\n",
    "\n",
    "numbers = [1, 2, 3, 4, 5, 6, 7, 8, 9, 10]\n",
    "print(list(filter(is_even,numbers)))"
   ]
  },
  {
   "cell_type": "code",
   "execution_count": 36,
   "id": "2adb3de7",
   "metadata": {},
   "outputs": [
    {
     "name": "stdout",
     "output_type": "stream",
     "text": [
      "[1, 2, 3, 4, 5]\n"
     ]
    }
   ],
   "source": [
    "#write a python program that removes the duplicate values from the list using a set\n",
    "#convert the set back into a list\n",
    "#List=> numbers = [1, 2, 2, 3, 4, 4, 5]\n",
    "\n",
    "numbers = [1, 2, 2, 3, 4, 4, 5]\n",
    "print(list(set(numbers)))"
   ]
  },
  {
   "cell_type": "code",
   "execution_count": null,
   "id": "44feb570",
   "metadata": {},
   "outputs": [],
   "source": []
  }
 ],
 "metadata": {
  "kernelspec": {
   "display_name": "Python 3 (ipykernel)",
   "language": "python",
   "name": "python3"
  },
  "language_info": {
   "codemirror_mode": {
    "name": "ipython",
    "version": 3
   },
   "file_extension": ".py",
   "mimetype": "text/x-python",
   "name": "python",
   "nbconvert_exporter": "python",
   "pygments_lexer": "ipython3",
   "version": "3.11.5"
  }
 },
 "nbformat": 4,
 "nbformat_minor": 5
}
